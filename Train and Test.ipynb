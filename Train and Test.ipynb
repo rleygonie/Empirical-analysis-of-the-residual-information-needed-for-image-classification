{
 "cells": [
  {
   "cell_type": "code",
   "execution_count": null,
   "metadata": {},
   "outputs": [],
   "source": [
    "import keras,os\n",
    "from keras.models import Sequential\n",
    "from keras.layers import Dense, Conv2D, MaxPool2D , MaxPooling2D, Flatten, Activation, Dropout, Flatten\n",
    "from keras.preprocessing.image import ImageDataGenerator\n",
    "import tensorflow as tf\n",
    "import numpy as np \n",
    "import time\n",
    "from keras.optimizers import Adam\n",
    "from keras import callbacks\n",
    "from keras.callbacks import ModelCheckpoint\n",
    "from PIL import Image\n",
    "import numpy as np\n",
    "import os"
   ]
  },
  {
   "cell_type": "code",
   "execution_count": null,
   "metadata": {},
   "outputs": [],
   "source": [
    "IMG_SIZE = 224"
   ]
  },
  {
   "cell_type": "code",
   "execution_count": null,
   "metadata": {},
   "outputs": [],
   "source": [
    "def label_img(name):\n",
    "    \"\"\"\n",
    "    Function to define the class of the image according to its name. \n",
    "    \n",
    "    Args:\n",
    "\n",
    "        name (string) : name of the image in the folder (without extension)\n",
    "        \n",
    "    Returns :\n",
    "        \n",
    "        array of size two :\n",
    "                    [1,0] -> Twitter\n",
    "                    [0,1] -> Facebook\n",
    "    \n",
    "    \"\"\"\n",
    "    word_label = name[-5]\n",
    "    if word_label == '0': return np.array([1, 0]) #Twitter\n",
    "    elif word_label == '1' : return np.array([0, 1]) #Facebook"
   ]
  },
  {
   "cell_type": "code",
   "execution_count": null,
   "metadata": {},
   "outputs": [],
   "source": [
    "def load_data(DIR):\n",
    "    \"\"\"\n",
    "    Loading of images\n",
    "    \n",
    "    Args :\n",
    "        DIR : path to de folder containing images\n",
    "        \n",
    "    Returns :\n",
    "        \n",
    "        List containing for each position, the image matrix and its associated label vector\n",
    "    \n",
    "    \"\"\"\n",
    "    data = []\n",
    "    for img in os.listdir(DIR):\n",
    "        label = label_img(img)\n",
    "        path = os.path.join(DIR, img)\n",
    "        if \"DS_Store\" not in path:\n",
    "            img = Image.open(path)\n",
    "            img=img.convert(\"RGB\")\n",
    "            img = img.resize((IMG_SIZE, IMG_SIZE))\n",
    "            data.append([np.array(img), label])\n",
    "    np.random.shuffle(data)\n",
    "    return data"
   ]
  },
  {
   "cell_type": "code",
   "execution_count": null,
   "metadata": {},
   "outputs": [],
   "source": [
    "def generate_model():\n",
    "    \n",
    "    model = Sequential()\n",
    "    model.add(Conv2D(32,3,padding=\"same\", activation=\"relu\",kernel_initializer='he_normal', input_shape=(224,224,3)))\n",
    "    model.add(MaxPool2D())\n",
    "\n",
    "    model.add(Conv2D(32, 3, padding=\"same\", kernel_initializer='he_normal',activation=\"relu\"))\n",
    "    model.add(MaxPool2D())\n",
    "\n",
    "    model.add(Conv2D(64, 3, padding=\"same\", activation=\"relu\"))\n",
    "    model.add(MaxPool2D())\n",
    "    model.add(Dropout(0.2))\n",
    "\n",
    "    model.add(Flatten())\n",
    "    model.add(Dense(128,activation=\"relu\"))\n",
    "    model.add(Dense(2, activation=\"softmax\"))\n",
    "\n",
    "    return model"
   ]
  },
  {
   "cell_type": "code",
   "execution_count": null,
   "metadata": {},
   "outputs": [],
   "source": [
    "# Training\n",
    "\n",
    "\n",
    "opt = Adam(lr=0.0001, beta_1=0.9, beta_2=0.999, epsilon=None, amsgrad=False)\n",
    "\n",
    "for noise in range(0,100,10):\n",
    "    for batch in range(1,6):\n",
    "        Train_DIR='path to principal training dir'+str(p)+'/'\n",
    "        train_data = load_data(Train_DIR)\n",
    "        trainImages = np.array([i[0] for i in train_data]).reshape(-1,IMG_SIZE, IMG_SIZE, 3)\n",
    "        trainLabels = np.array([i[1] for i in train_data])\n",
    "        trainImages=np.float_(trainImages)\n",
    "        trainLabels=np.float_(trainLabels)\n",
    "        model=generate_model()\n",
    "        model.compile(optimizer=opt, loss='binary_crossentropy', metrics=['accuracy'])\n",
    "    \n",
    "    \n",
    "        checkpoint_name = 'path to checkpoint dir'+str(noise)+'_b='+str(batch)+'-{epoch:03d}.hdf5' \n",
    "        checkpoint = ModelCheckpoint(checkpoint_name, monitor='val_loss', verbose = 1, save_best_only = True, mode ='auto')\n",
    "        callbacks_list = [checkpoint]\n",
    "    \n",
    "    \n",
    "    \n",
    "        gpu_options = tf.compat.v1.GPUOptions(allow_growth=True)\n",
    "        session = tf.compat.v1.InteractiveSession(config= tf.compat.v1.ConfigProto(gpu_options=gpu_options))\n",
    "        with tf.device(\"/gpu:0\"):\n",
    "    \n",
    "            start = time.time() \n",
    "            model.fit(trainImages, trainLabels, validation_split=0.2, epochs=100,verbose=1,callbacks=callbacks_list,batch_size=batch, shuffle=True) #save history of learning\n",
    "            session.close() "
   ]
  },
  {
   "cell_type": "code",
   "execution_count": null,
   "metadata": {},
   "outputs": [],
   "source": [
    "# Test\n",
    "\n",
    "Test_DIR='path to test dir'\n",
    "test_data = load_data(Test_DIR)\n",
    "testImages = np.array([i[0] for i in test_data]).reshape(-1, IMG_SIZE, IMG_SIZE, 3)\n",
    "testLabels = np.array([i[1] for i in test_data])\n",
    "\n",
    "\n",
    "with tf.device(\"/cpu:0\"):\n",
    "    model=generate_model()\n",
    "    wights_file = 'Path to weight file .hdf5'\n",
    "    model.load_weights(wights_file) # chargement du modèle\n",
    "    model.compile(loss='categorical_crossentropy', optimizer='adam', metrics=['accuracy'])\n",
    "    loss, acc = model.evaluate(testImages, testLabels, verbose = 1)\n",
    "    print(\"accuracy : \",acc*100)"
   ]
  }
 ],
 "metadata": {
  "kernelspec": {
   "display_name": "Python 3",
   "language": "python",
   "name": "python3"
  },
  "language_info": {
   "codemirror_mode": {
    "name": "ipython",
    "version": 3
   },
   "file_extension": ".py",
   "mimetype": "text/x-python",
   "name": "python",
   "nbconvert_exporter": "python",
   "pygments_lexer": "ipython3",
   "version": "3.8.8"
  }
 },
 "nbformat": 4,
 "nbformat_minor": 4
}
